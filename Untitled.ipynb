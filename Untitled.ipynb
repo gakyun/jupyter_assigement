{
 "cells": [
  {
   "cell_type": "code",
   "execution_count": 1,
   "id": "9da4379c",
   "metadata": {
    "scrolled": true
   },
   "outputs": [
    {
     "name": "stdout",
     "output_type": "stream",
     "text": [
      "Customer One Items: \n",
      "Lovely Loveseat.Tufted polyester blend on wood. 32 inches high x 40 inches wide x 30 inches deep. Red or white.Luxurious Lamp. Glass and iron. 36 inches tall. Brown with cream shade.\n",
      "Customer one total: \n",
      "333.0912000000\n"
     ]
    }
   ],
   "source": [
    "lovely_loveseat_description = \"Lovely Loveseat.Tufted polyester blend on wood. 32 inches high x 40 inches wide x 30 inches deep. Red or white.\"\n",
    "lovely_loveseat_price = 254.00\n",
    "\n",
    "\n",
    "stylish_settee_description = \"Stylish Settee. Faux leather on birch. 29.50 inches high x 54.75 inches wide x 28 inches deep. Black.\"\n",
    "stylish_settee_price = 180.50\n",
    "\n",
    "\n",
    "luxurious_lamp_description = \"Luxurious Lamp. Glass and iron. 36 inches tall. Brown with cream shade.\"\n",
    "luxurious_lamp_price = 52.15\n",
    "\n",
    "\n",
    "sales_tax = 1.088\n",
    "\n",
    "customer_one_tax = (lovely_loveseat_price, stylish_settee_price, luxurious_lamp_price)\n",
    "customer_one_total = (customer_one_tax[0] + customer_one_tax[2]) * sales_tax\n",
    "customer_one_itemization = (lovely_loveseat_description, stylish_settee_description, luxurious_lamp_description)\n",
    "\n",
    "print((\"Customer One Items: \\n%s\") % customer_one_itemization[0] + customer_one_itemization[2])\n",
    "print((\"Customer one total: \\n%.10f\") % customer_one_total)"
   ]
  },
  {
   "cell_type": "code",
   "execution_count": 2,
   "id": "b4524930",
   "metadata": {},
   "outputs": [
    {
     "name": "stdout",
     "output_type": "stream",
     "text": [
      "[['physics', 98], ['calculus', 97], ['poetry', 'pass'], ['history', 88], [['computer science'], 100], ['visual arts', 98]]\n",
      "[['politics', 80], ['latin', 96], ['dance', 97], ['architecture', 65], ['physics', 98], ['calculus', 97], ['poetry', 'pass'], ['history', 88], [['computer science'], 100], ['visual arts', 98]]\n"
     ]
    }
   ],
   "source": [
    "subjects = [\"physics\",\"calculus\",\"poetry\",\"history\"]\n",
    "grades = [98,97,85,88]\n",
    "subjects.append(\"computer science\")\n",
    "grades.append(100)\n",
    "subjects.append(\"visual arts\")\n",
    "grades.append(93)\n",
    "grades[5] += 5\n",
    "grades.pop(2)\n",
    "grades.insert(2, \"pass\")\n",
    "gradebook = [[subjects[0],grades[0]],[subjects[1],grades[1]],[subjects[2],grades[2]],[subjects[3],grades[3]],[[subjects[4]],grades[4]],\n",
    "            [subjects[5],grades[5]]]\n",
    "\n",
    "print(gradebook)\n",
    "\n",
    "last_semester_gradebook = [[\"politics\", 80], [\"latin\", 96], [\"dance\", 97], [\"architecture\", 65]]\n",
    "\n",
    "full_gradebook = last_semester_gradebook + gradebook\n",
    "print(full_gradebook)"
   ]
  },
  {
   "cell_type": "code",
   "execution_count": null,
   "id": "e84bbd80",
   "metadata": {},
   "outputs": [],
   "source": []
  }
 ],
 "metadata": {
  "kernelspec": {
   "display_name": "Python 3 (ipykernel)",
   "language": "python",
   "name": "python3"
  },
  "language_info": {
   "codemirror_mode": {
    "name": "ipython",
    "version": 3
   },
   "file_extension": ".py",
   "mimetype": "text/x-python",
   "name": "python",
   "nbconvert_exporter": "python",
   "pygments_lexer": "ipython3",
   "version": "3.9.12"
  }
 },
 "nbformat": 4,
 "nbformat_minor": 5
}
